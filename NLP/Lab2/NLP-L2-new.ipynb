{
 "cells": [
  {
   "cell_type": "markdown",
   "metadata": {},
   "source": [
    "# L2: Language modelling"
   ]
  },
  {
   "cell_type": "markdown",
   "metadata": {},
   "source": [
    "In this lab you will implement and train two neural language models: the fixed-window model mentioned in Lecture&nbsp;2.3, and the recurrent neural network model from Lecture&nbsp;2.5. You will evaluate these models by computing their perplexity on a benchmark dataset."
   ]
  },
  {
   "cell_type": "code",
   "execution_count": 1,
   "metadata": {},
   "outputs": [],
   "source": [
    "import torch"
   ]
  },
  {
   "cell_type": "markdown",
   "metadata": {},
   "source": [
    "For this lab, you should use the GPU if you have one:"
   ]
  },
  {
   "cell_type": "code",
   "execution_count": 2,
   "metadata": {},
   "outputs": [],
   "source": [
    "device = torch.device('cuda' if torch.cuda.is_available() else 'cpu')"
   ]
  },
  {
   "cell_type": "markdown",
   "metadata": {
    "colab_type": "text",
    "id": "9R4lrT01ArUA"
   },
   "source": [
    "## Data"
   ]
  },
  {
   "cell_type": "markdown",
   "metadata": {},
   "source": [
    "The data for this lab is [WikiText](https://blog.einstein.ai/the-wikitext-long-term-dependency-language-modeling-dataset/), a collection of more than 100 million tokens extracted from the set of &lsquo;Good&rsquo; and &lsquo;Featured&rsquo; articles on Wikipedia. We will use the small version of the dataset, which contains slightly more than 2.5 million tokens.\n",
    "\n",
    "The next cell contains code for an object that will act as a container for the &lsquo;training&rsquo; and the &lsquo;validation&rsquo; section of the data. We fill this container by reading the corresponding text files. The only processing that we do is to whitespace-tokenize, and to replace each newline character with a special token `<eos>` (end-of-sentence)."
   ]
  },
  {
   "cell_type": "code",
   "execution_count": 3,
   "metadata": {},
   "outputs": [],
   "source": [
    "class WikiText(object):\n",
    "    \n",
    "    def __init__(self):\n",
    "        self.vocab = {}\n",
    "        self.train = self.read_data('wiki.train.tokens')\n",
    "        self.valid = self.read_data('wiki.valid.tokens')\n",
    "    \n",
    "    def read_data(self, path):\n",
    "        ids = []\n",
    "        with open(path) as source:\n",
    "            for line in source:\n",
    "                for token in line.split() + ['<eos>']:\n",
    "                    if token not in self.vocab:\n",
    "                        self.vocab[token] = len(self.vocab)\n",
    "                    ids.append(self.vocab[token])\n",
    "        return ids"
   ]
  },
  {
   "cell_type": "markdown",
   "metadata": {},
   "source": [
    "The cell below loads the data and prints the total number of tokens and the size of the vocabulary."
   ]
  },
  {
   "cell_type": "code",
   "execution_count": 4,
   "metadata": {
    "colab": {},
    "colab_type": "code",
    "id": "3szKS_ipArUK"
   },
   "outputs": [
    {
     "name": "stdout",
     "output_type": "stream",
     "text": [
      "Tokens in train: 2088628\n",
      "Tokens in valid: 217646\n",
      "Vocabulary size: 33278\n"
     ]
    }
   ],
   "source": [
    "wikitext = WikiText()\n",
    "\n",
    "print('Tokens in train:', len(wikitext.train))\n",
    "print('Tokens in valid:', len(wikitext.valid))\n",
    "print('Vocabulary size:', len(wikitext.vocab))"
   ]
  },
  {
   "cell_type": "markdown",
   "metadata": {
    "colab_type": "text",
    "id": "acEbvPE2ArUi"
   },
   "source": [
    "## Problem 1: Fixed-window neural language model"
   ]
  },
  {
   "cell_type": "markdown",
   "metadata": {
    "colab_type": "text",
    "id": "_ZCkyT9yArUj"
   },
   "source": [
    "In this section you will implement and train the fixed-window neural language model proposed by [Bengio et al. (2003)](http://www.jmlr.org/papers/volume3/bengio03a/bengio03a.pdf) and introduced in Lecture&nbsp;2.3. Recall that an input to the network takes the form of a vector of $n-1$ integers representing the preceding words. Each integer is mapped to a vector via an embedding layer. (All positions share the same embedding.) The embedding vectors are then concatenated and sent through a two-layer feed-forward network with a non-linearity in the form of a rectified linear unit (ReLU) and a final softmax layer."
   ]
  },
  {
   "cell_type": "markdown",
   "metadata": {},
   "source": [
    "### Problem 1.1: Vectorize the data"
   ]
  },
  {
   "cell_type": "markdown",
   "metadata": {},
   "source": [
    "Your first task is to write code for transforming the data in the WikiText container into a vectorized form that can be fed to the fixed-window model. Complete the skeleton code in the cell below:"
   ]
  },
  {
   "cell_type": "code",
   "execution_count": 5,
   "metadata": {},
   "outputs": [],
   "source": [
    "def vectorize_fixed_window(wikitext_data, n):\n",
    "    #print(wikitext_data)\n",
    "    y = []\n",
    "    X = []\n",
    "    for i in range(n-1, len(wikitext_data)):\n",
    "        y.append(wikitext_data[i])\n",
    "        X.append([wikitext_data[j] for j in range(i-n+1, i)])\n",
    "    # TODO: Replace the following line with your own code\n",
    "    return torch.LongTensor(X), torch.LongTensor(y)"
   ]
  },
  {
   "cell_type": "markdown",
   "metadata": {},
   "source": [
    "Your function should meet the following specification:\n",
    "\n",
    "**vectorize_fixed_window** (*wikitext_data*, *n*)\n",
    "\n",
    "> Transforms WikiText data (a list of word ids) into a pair of tensors $\\mathbf{X}$, $\\mathbf{y}$ that can be used to train the fixed-window model. Let $N$ be the total number of $n$-grams from the token list; then $\\mathbf{X}$ is a matrix with shape $(N, n-1)$ and $\\mathbf{y}$ is a vector with length $N$.\n",
    "\n",
    "⚠️ Your function should be able to handle arbitrary values of $n \\geq 1$."
   ]
  },
  {
   "cell_type": "markdown",
   "metadata": {},
   "source": [
    "#### 🤞 Test your code\n",
    "\n",
    "Test your implementation by running the code in the next cell. Does the output match your expectation?"
   ]
  },
  {
   "cell_type": "code",
   "execution_count": 6,
   "metadata": {},
   "outputs": [],
   "source": [
    "#train_x, train_y = vectorize_fixed_window(wikitext.train, n)\n",
    "#valid_x, valid_y = vectorize_fixed_window(wikitext.valid, n)\n",
    "\n",
    "#print(valid_x.size())\n",
    "#print(valid_x.shape())\n",
    "#print(valid_y.shape())"
   ]
  },
  {
   "cell_type": "markdown",
   "metadata": {},
   "source": [
    "### Problem 1.2: Implement the model"
   ]
  },
  {
   "cell_type": "markdown",
   "metadata": {},
   "source": [
    "Your next task is to implement the fixed-window model based on the graphical specification given in the lecture."
   ]
  },
  {
   "cell_type": "code",
   "execution_count": 7,
   "metadata": {},
   "outputs": [],
   "source": [
    "import torch.nn as nn\n",
    "import torch.nn.functional as F\n",
    "\n",
    "batch_size = 20\n",
    "\n",
    "class FixedWindowModel(nn.Module):\n",
    "\n",
    "    def __init__(self, n, n_words, embedding_dim=50, hidden_dim=50):\n",
    "        super().__init__()\n",
    "        # TODO: Add your own code\n",
    "        self.n_word = n_words\n",
    "        self.embedding = nn.Embedding(self.n_word, embedding_dim)\n",
    "        self.linear1 = nn.Linear((n-1) * embedding_dim, hidden_dim)\n",
    "        self.linear2 = nn.Linear(hidden_dim, self.n_word)\n",
    "\n",
    "    def forward(self, x):\n",
    "        \"\"\"\n",
    "        n = window_size\n",
    "        x_dim: B, n-1\n",
    "        emb_dim : B, n-1, Embedding_dim\n",
    "        new_emb_dim: B, ((n-1) * Embedding_dim)\n",
    "        \"\"\"\n",
    "        emb = self.embedding(x)\n",
    "        #print(emb.size())\n",
    "        new_emb = torch.zeros(emb.size(dim=0), emb.size(dim=1) * emb.size(dim=2))\n",
    "        for i in range(emb.size(dim=0)): #batch_size\n",
    "            new_emb[i] = emb[i].view(1, -1)\n",
    "        #print(new_emb.size())\n",
    "        out = self.linear1(new_emb)\n",
    "        #print(\"out linear1 size:\")\n",
    "        #print(out.size())\n",
    "        out = F.relu(out)\n",
    "        #print(\"out relu size:\")\n",
    "        #print(out.size())\n",
    "        out = self.linear2(out)\n",
    "        #print(\"out linear2 size:\")\n",
    "        #print(out.size())\n",
    "        log_prob = F.log_softmax(out)\n",
    "        #print(\"out softmax size:\")\n",
    "        #print(log_prob.size())\n",
    "        return log_prob\n",
    "        #raise NotImplemented\n",
    "\n",
    "#model = FixedWindowModel(3, len(wikitext.vocab))\n",
    "#model = FixedWindowModel(3, 3)\n",
    "#model.forward(valid_x[0:100])"
   ]
  },
  {
   "cell_type": "markdown",
   "metadata": {},
   "source": [
    "Here is the specification of the two methods:\n",
    "\n",
    "**__init__** (*self*, *n*, *n_words*, *embedding_dim*=50, *hidden_dim*=50)\n",
    "\n",
    "> Creates a new fixed-window neural language model. The argument *n* specifies the model&rsquo;s $n$-gram order. The argument *n_words* is the number of words in the vocabulary. The arguments *embedding_dim* and *hidden_dim* specify the dimensionalities of the embedding layer and the hidden layer of the feedforward network, respectively; their default value is 50.\n",
    "\n",
    "**forward** (*self*, *x*)\n",
    "\n",
    "> Computes the network output on an input batch *x*. The shape of *x* is $(B, n-1)$, where $B$ is the batch size. The output of the forward pass is a tensor of shape $(B, V)$ where $V$ is the number of words in the vocabulary.\n",
    "\n",
    "**Hint:** The most efficient way to implement the vector concatenation in this model is to use the [`view()`](https://pytorch.org/docs/stable/tensors.html#torch.Tensor.view) method.\n",
    "\n",
    "#### 🤞 Test your code\n",
    "\n",
    "Test your code by instantiating the model and feeding it a batch of examples from the training data."
   ]
  },
  {
   "cell_type": "markdown",
   "metadata": {},
   "source": [
    "### Problem 1.3: Train the model"
   ]
  },
  {
   "cell_type": "markdown",
   "metadata": {},
   "source": [
    "Your final task is to write code to train the fixed-window model using minibatch gradient descent and the cross-entropy loss function.\n",
    "\n",
    "For your convenience, the following cell contains a utility function that randomly samples minibatches of a specified size from a pair of tensors:"
   ]
  },
  {
   "cell_type": "code",
   "execution_count": 8,
   "metadata": {
    "colab": {},
    "colab_type": "code",
    "id": "JVoQqzueArUv"
   },
   "outputs": [],
   "source": [
    "def batchify(x, y, batch_size):\n",
    "    random_indices = torch.randperm(len(x))\n",
    "    for i in range(0, len(x) - batch_size + 1, batch_size):\n",
    "        indices = random_indices[i:i+batch_size]\n",
    "        yield x[indices].to(device), y[indices].to(device)\n",
    "    remainder = len(x) % batch_size\n",
    "    if remainder:\n",
    "        indices = random_indices[-remainder:]\n",
    "        yield x[indices].to(device), y[indices].to(device)"
   ]
  },
  {
   "cell_type": "markdown",
   "metadata": {},
   "source": [
    "What remains to be done is the implementation of the training loop. This should be a straightforward generalization of the training loops that you have seen so far. Complete the skeleton code in the cell below:"
   ]
  },
  {
   "cell_type": "code",
   "execution_count": 9,
   "metadata": {},
   "outputs": [],
   "source": [
    "import matplotlib.pyplot as plt\n",
    "import tqdm\n",
    "import torch.optim as optim\n",
    "\n",
    "n = 3\n",
    "\n",
    "#train_x, train_y = vectorize_fixed_window(wikitext.train, n)\n",
    "#valid_x, valid_y = vectorize_fixed_window(wikitext.valid, n)\n",
    "\n",
    "def train_fixed_window(n, n_epochs=1, batch_size=3200, lr=1e-2):\n",
    "    # Initialize the model\n",
    "    train_x, train_y = vectorize_fixed_window(wikitext.train, n)\n",
    "    valid_x, valid_y = vectorize_fixed_window(wikitext.valid, n)\n",
    "    model = FixedWindowModel(n, len(wikitext.vocab), embedding_dim=10, hidden_dim=10)\n",
    "\n",
    "    # Initialize the optimizer\n",
    "    optimizer = optim.Adam(model.parameters(), lr=lr)\n",
    "\n",
    "    # We will keep track of the losses on the two datasets\n",
    "    train_losses = []\n",
    "    valid_losses = []\n",
    "    valid_accuracies = []\n",
    "    info = {'valid loss': 0, 'valid acc': 0}\n",
    "\n",
    "    with tqdm.tqdm(total=n_epochs) as pbar:\n",
    "        for t in range(n_epochs):\n",
    "            pbar.set_description(f'Epoch {t+1}')\n",
    "\n",
    "            # Start training\n",
    "            model.train()\n",
    "            #print(\"Salam1\")\n",
    "            running_loss = 0\n",
    "            i = 0\n",
    "            num_iter = len(train_x) / batch_size\n",
    "            for bx, by in batchify(train_x, train_y, batch_size):\n",
    "                #print(\"Salam2\")\n",
    "                optimizer.zero_grad()\n",
    "                #print(\"Salam3\")\n",
    "                output = model.forward(bx)\n",
    "                loss = F.cross_entropy(output, by)\n",
    "                #print(\"Salam4\")\n",
    "                loss.backward()\n",
    "                #print(\"Salam5\")\n",
    "                optimizer.step()\n",
    "                #print(\"Salam6\")\n",
    "                running_loss += loss.item() * len(bx)\n",
    "                #print(running_loss)\n",
    "                i = i + 1\n",
    "                #print(\"Iteration \" + str(i) + \" out of \" + str(num_iter))\n",
    "            train_losses.append(running_loss / len(train_x))\n",
    "\n",
    "            # Start evaluation\n",
    "            model.eval()\n",
    "            with torch.no_grad():\n",
    "                valid_output = model.forward(valid_x)\n",
    "                valid_loss = F.cross_entropy(valid_output, valid_y)\n",
    "            valid_losses.append(valid_loss)\n",
    "            valid_y_pred = torch.argmax(valid_output, axis=1)\n",
    "            perplexity  = torch.exp(valid_loss)\n",
    "            print('Loss:', valid_loss, 'PP:', perplexity)\n",
    "            #valid_acc = accuracy(valid_y_pred, valid_y)\n",
    "            #valid_accuracies.append(valid_acc)\n",
    "            #info['dev loss'] = f'{dev_loss:.4f}'\n",
    "            #info['dev acc'] = f'{dev_acc:.4f}'\n",
    "            #pbar.set_postfix(info)\n",
    "            #pbar.update()\n",
    "\n",
    "    return model"
   ]
  },
  {
   "cell_type": "markdown",
   "metadata": {},
   "source": [
    "Here is the specification of the training function:\n",
    "\n",
    "**train_fixed_window** (*n*, *n_epochs* = 1, *batch_size* = 3200, *lr* = 0.01)\n",
    "\n",
    "> Trains a fixed-window neural language model of order *n* using minibatch gradient descent and returns it. The parameters *n_epochs* and *batch_size* specify the number of training epochs and the minibatch size, respectively. Training uses the cross-entropy loss function and the [Adam optimizer](https://pytorch.org/docs/stable/optim.html#torch.optim.Adam) with learning rate *lr*. After each epoch, prints the perplexity of the model on the validation data."
   ]
  },
  {
   "cell_type": "markdown",
   "metadata": {},
   "source": [
    "The code in the cell below trains a bigram model."
   ]
  },
  {
   "cell_type": "code",
   "execution_count": 10,
   "metadata": {
    "colab": {},
    "colab_type": "code",
    "id": "sBhTCjChArU7"
   },
   "outputs": [
    {
     "name": "stderr",
     "output_type": "stream",
     "text": [
      "Epoch 1:   0%|          | 0/10 [00:00<?, ?it/s]/srv/conda/envs/notebook/lib/python3.7/site-packages/ipykernel_launcher.py:38: UserWarning: Implicit dimension choice for log_softmax has been deprecated. Change the call to include dim=X as an argument.\n"
     ]
    },
    {
     "name": "stdout",
     "output_type": "stream",
     "text": [
      "Iteration 1 out of 3.0\n",
      "Iteration 2 out of 3.0\n",
      "Iteration 3 out of 3.0\n"
     ]
    },
    {
     "name": "stderr",
     "output_type": "stream",
     "text": [
      "Epoch 2:   0%|          | 0/10 [00:27<?, ?it/s]"
     ]
    },
    {
     "name": "stdout",
     "output_type": "stream",
     "text": [
      "tensor(30781.)\n",
      "Iteration 1 out of 3.0\n",
      "Iteration 2 out of 3.0\n",
      "Iteration 3 out of 3.0\n"
     ]
    },
    {
     "name": "stderr",
     "output_type": "stream",
     "text": [
      "Epoch 3:   0%|          | 0/10 [00:55<?, ?it/s]"
     ]
    },
    {
     "name": "stdout",
     "output_type": "stream",
     "text": [
      "tensor(27499.5469)\n",
      "Iteration 1 out of 3.0\n",
      "Iteration 2 out of 3.0\n",
      "Iteration 3 out of 3.0\n"
     ]
    },
    {
     "name": "stderr",
     "output_type": "stream",
     "text": [
      "Epoch 4:   0%|          | 0/10 [01:24<?, ?it/s]"
     ]
    },
    {
     "name": "stdout",
     "output_type": "stream",
     "text": [
      "tensor(23989.4648)\n",
      "Iteration 1 out of 3.0\n",
      "Iteration 2 out of 3.0\n",
      "Iteration 3 out of 3.0\n"
     ]
    },
    {
     "name": "stderr",
     "output_type": "stream",
     "text": [
      "Epoch 5:   0%|          | 0/10 [01:53<?, ?it/s]"
     ]
    },
    {
     "name": "stdout",
     "output_type": "stream",
     "text": [
      "tensor(20225.4062)\n",
      "Iteration 1 out of 3.0\n",
      "Iteration 2 out of 3.0\n",
      "Iteration 3 out of 3.0\n"
     ]
    },
    {
     "name": "stderr",
     "output_type": "stream",
     "text": [
      "Epoch 6:   0%|          | 0/10 [02:25<?, ?it/s]"
     ]
    },
    {
     "name": "stdout",
     "output_type": "stream",
     "text": [
      "tensor(16412.1191)\n",
      "Iteration 1 out of 3.0\n",
      "Iteration 2 out of 3.0\n",
      "Iteration 3 out of 3.0\n"
     ]
    },
    {
     "name": "stderr",
     "output_type": "stream",
     "text": [
      "Epoch 7:   0%|          | 0/10 [02:56<?, ?it/s]"
     ]
    },
    {
     "name": "stdout",
     "output_type": "stream",
     "text": [
      "tensor(12849.3701)\n",
      "Iteration 1 out of 3.0\n",
      "Iteration 2 out of 3.0\n",
      "Iteration 3 out of 3.0\n"
     ]
    },
    {
     "name": "stderr",
     "output_type": "stream",
     "text": [
      "Epoch 8:   0%|          | 0/10 [03:27<?, ?it/s]"
     ]
    },
    {
     "name": "stdout",
     "output_type": "stream",
     "text": [
      "tensor(9869.2373)\n",
      "Iteration 1 out of 3.0\n",
      "Iteration 2 out of 3.0\n",
      "Iteration 3 out of 3.0\n"
     ]
    },
    {
     "name": "stderr",
     "output_type": "stream",
     "text": [
      "Epoch 9:   0%|          | 0/10 [03:56<?, ?it/s]"
     ]
    },
    {
     "name": "stdout",
     "output_type": "stream",
     "text": [
      "tensor(7728.3677)\n",
      "Iteration 1 out of 3.0\n",
      "Iteration 2 out of 3.0\n",
      "Iteration 3 out of 3.0\n"
     ]
    },
    {
     "name": "stderr",
     "output_type": "stream",
     "text": [
      "Epoch 10:   0%|          | 0/10 [04:26<?, ?it/s]"
     ]
    },
    {
     "name": "stdout",
     "output_type": "stream",
     "text": [
      "tensor(6434.2656)\n",
      "Iteration 1 out of 3.0\n",
      "Iteration 2 out of 3.0\n",
      "Iteration 3 out of 3.0\n"
     ]
    },
    {
     "name": "stderr",
     "output_type": "stream",
     "text": [
      "Epoch 10:   0%|          | 0/10 [04:55<?, ?it/s]"
     ]
    },
    {
     "name": "stdout",
     "output_type": "stream",
     "text": [
      "tensor(5767.6382)\n"
     ]
    },
    {
     "name": "stderr",
     "output_type": "stream",
     "text": [
      "\n"
     ]
    }
   ],
   "source": [
    "model_fixed_window = train_fixed_window(2, n_epochs=10, batch_size = 1600)"
   ]
  },
  {
   "cell_type": "markdown",
   "metadata": {},
   "source": [
    "**⚠️ Your submitted notebook must contain output demonstrating a validation perplexity of at most 350.**\n",
    "\n",
    "**Hint:** Computing the validation perplexity in one go may exhaust your computer&rsquo;s memory and/or take a lot of time. If you run into this problem, break the computation down into minibatches and take the average perplexity."
   ]
  },
  {
   "cell_type": "markdown",
   "metadata": {},
   "source": [
    "#### 🤞 Test your code\n",
    "\n",
    "To see whether your network is learning something, print the loss and/or the perplexity on the training data. If the two values are not decreasing over time, try to find the problem before wasting time (and energy) on useless training.\n",
    "\n",
    "Training and even evaluation will take some time – on a CPU, you should expect several minutes per epoch, depending on hardware. To speed things up, you can train using a GPU; our reference implementation runs in less than 30 seconds per epoch on [Colab](http://colab.research.google.com)."
   ]
  },
  {
   "cell_type": "markdown",
   "metadata": {
    "colab_type": "text",
    "id": "-d8PFZucArU8"
   },
   "source": [
    "## Problem 2: Recurrent neural network language model"
   ]
  },
  {
   "cell_type": "markdown",
   "metadata": {},
   "source": [
    "In this section you will implement the recurrent neural network language model that was presented in Lecture&nbsp;2.5. Recall that an input to the network is a vector of word ids. Each integer is mapped to an embedding vector. The sequence of embedded vectors is then fed into an unrolled LSTM. At each position $i$ in the sequence, the hidden state of the LSTM at that position is sent through a linear transformation into a final softmax layer, from which we read off the index of the word at position $i+1$. In theory, the input vector could represent the complete training data or at least a complete sentence; for practical reasons, however, we will truncate the input to some fixed value *bptt_len*, the **backpropagation-through-time horizon**."
   ]
  },
  {
   "cell_type": "markdown",
   "metadata": {},
   "source": [
    "### Problem 2.1: Vectorize the data"
   ]
  },
  {
   "cell_type": "markdown",
   "metadata": {},
   "source": [
    "As in the previous problem, your first task is to transform the data in the WikiText container into a vectorized form that can be fed to the model."
   ]
  },
  {
   "cell_type": "code",
   "execution_count": null,
   "metadata": {},
   "outputs": [],
   "source": [
    "def vectorize_rnn(wikitext_data, bptt_len):\n",
    "    # TODO: Replace the next line with your own code\n",
    "    return None"
   ]
  },
  {
   "cell_type": "markdown",
   "metadata": {},
   "source": [
    "Your function should meet the following specification:\n",
    "\n",
    "**vectorize_rnn** (*wikitext_data*, *bptt_len*)\n",
    "\n",
    "> Transforms a list of token indexes into a pair of tensors $\\mathbf{X}$, $\\mathbf{Y}$ that can be used to train the recurrent neural language model. The rows of both tensors represent contiguous subsequences of token indexes of length *bptt_len*. Compared to the sequences in $\\mathbf{X}$, the corresponding sequences in $\\mathbf{Y}$ are shifted one position to the right. More precisely, if the $i$th row of $\\mathbf{X}$ is the sequence that starts at token position $j$, then the same row of $\\mathbf{Y}$ is the sequence that starts at position $j+1$."
   ]
  },
  {
   "cell_type": "markdown",
   "metadata": {},
   "source": [
    "#### 🤞 Test your code\n",
    "\n",
    "Test your implementation by running the following code:"
   ]
  },
  {
   "cell_type": "code",
   "execution_count": null,
   "metadata": {},
   "outputs": [],
   "source": [
    "valid_x, valid_y = vectorize_rnn(wikitext.valid, 32)\n",
    "\n",
    "print(valid_x.size())"
   ]
  },
  {
   "cell_type": "markdown",
   "metadata": {},
   "source": [
    "### Problem 2.2: Implement the model"
   ]
  },
  {
   "cell_type": "markdown",
   "metadata": {},
   "source": [
    "Your next task is to implement the recurrent neural network model based on the graphical specification given in the lecture."
   ]
  },
  {
   "cell_type": "code",
   "execution_count": null,
   "metadata": {},
   "outputs": [],
   "source": [
    "import torch.nn as nn\n",
    "\n",
    "class RNNModel(nn.Module):\n",
    "    \n",
    "    def __init__(self, n_words, embedding_dim=50, hidden_dim=50):\n",
    "        super().__init__()\n",
    "        # TODO: Add your own code\n",
    "\n",
    "    def forward(self, x):\n",
    "        # TODO: Replace the next line with your own code\n",
    "        raise NotImplemented"
   ]
  },
  {
   "cell_type": "markdown",
   "metadata": {},
   "source": [
    "Your implementation should follow this specification:\n",
    "\n",
    "**__init__** (*self*, *n_words*, *embedding_dim* = 50, *hidden_dim* = 50)\n",
    "\n",
    "> Creates a new recurrent neural network language model. The argument *n_words* is the number of words in the vocabulary. The arguments *embedding_dim* and *hidden_dim* specify the dimensionalities of the embedding layer and the LSTM hidden layer, respectively; their default value is 50.\n",
    "\n",
    "**forward** (*self*, *x*)\n",
    "\n",
    "> Computes the network output on an input batch *x*. The shape of *x* is $(B, H)$, where $B$ is the batch size and $H$ is the length of each input sequence. The shape of the output tensor is $(B, H, V)$, where $V$ is the size of the vocabulary."
   ]
  },
  {
   "cell_type": "markdown",
   "metadata": {},
   "source": [
    "#### 🤞 Test your code\n",
    "\n",
    "Test your code by instantiating the model and feeding it a batch of examples from the training data."
   ]
  },
  {
   "cell_type": "markdown",
   "metadata": {},
   "source": [
    "### Problem 2.3: Train the model"
   ]
  },
  {
   "cell_type": "markdown",
   "metadata": {},
   "source": [
    "The training loop for the recurrent neural network model is essentially identical to the loop that you wrote for the feed-forward model. The only thing to note is that the cross-entropy loss function expects its input to be a two-dimensional tensor; you will therefore have to re-shape the output tensor from the LSTM as well as the gold-standard output tensor in a suitable way. The most efficient way to do so is to use the [`view()`](https://pytorch.org/docs/stable/tensors.html#torch.Tensor.view) method."
   ]
  },
  {
   "cell_type": "code",
   "execution_count": null,
   "metadata": {},
   "outputs": [],
   "source": [
    "def train_rnn(n_epochs=1, batch_size=100, bptt_len=32):\n",
    "    # TODO: Replace the next line with your own code\n",
    "    return None"
   ]
  },
  {
   "cell_type": "markdown",
   "metadata": {},
   "source": [
    "Here is the specification of the training function:\n",
    "\n",
    "**train_rnn** (*n_epochs* = 1, *batch_size* = 100, *bptt_len* = 32, *lr* = 0.01)\n",
    "\n",
    "> Trains a recurrent neural network language model on the WikiText data using minibatch gradient descent and returns it. The parameters *n_epochs* and *batch_size* specify the number of training epochs and the minibatch size, respectively. The parameter *bptt_len* specifies the length of the backpropagation-through-time horizon, that is, the length of the input and output sequences. Training uses the cross-entropy loss function and the [Adam optimizer](https://pytorch.org/docs/stable/optim.html#torch.optim.Adam) with learning rate *lr*. After each epoch, prints the perplexity of the model on the validation data."
   ]
  },
  {
   "cell_type": "markdown",
   "metadata": {},
   "source": [
    "Evaluate your model by running the following code cell:"
   ]
  },
  {
   "cell_type": "code",
   "execution_count": null,
   "metadata": {
    "colab": {},
    "colab_type": "code",
    "id": "bfhQ7Uy6ArVD"
   },
   "outputs": [],
   "source": [
    "model_rnn = train_rnn(n_epochs=1)"
   ]
  },
  {
   "cell_type": "markdown",
   "metadata": {},
   "source": [
    "**⚠️ Your submitted notebook must contain output demonstrating a validation perplexity of at most 310.**"
   ]
  },
  {
   "cell_type": "markdown",
   "metadata": {
    "colab_type": "text",
    "id": "VuIMzlbMArTj"
   },
   "source": [
    "## Problem 3: Parameter initialization (reflection)"
   ]
  },
  {
   "cell_type": "markdown",
   "metadata": {},
   "source": [
    "Since the error surfaces that gradient search explores when training neural networks can be very complex, it is important to choose &lsquo;good&rsquo; initial values for the parameters. In PyTorch, the weights of the embedding layer are initialized by sampling from the standard normal distribution $\\mathcal{N}(0, 1)$. Test how changing the standard deviation and/or the distribution affects the perplexity of your feed-forward language model. Write a short report about your experience (ca. 150 words). Use the following prompts:\n",
    "\n",
    "* What different settings for the initialization did you try? What results did you get?\n",
    "* How can you choose a good initialization strategy?\n",
    "* What did you learn? How, exactly, did you learn it? Why does this learning matter?"
   ]
  },
  {
   "cell_type": "markdown",
   "metadata": {
    "colab": {},
    "colab_type": "code",
    "id": "35v3IxEz_Fkd"
   },
   "source": [
    "*TODO: Enter your text here*"
   ]
  }
 ],
 "metadata": {
  "accelerator": "GPU",
  "colab": {
   "collapsed_sections": [],
   "name": "LM.ipynb",
   "provenance": [],
   "toc_visible": true
  },
  "kernelspec": {
   "display_name": "Python 3 (ipykernel)",
   "language": "python",
   "name": "python3"
  },
  "language_info": {
   "codemirror_mode": {
    "name": "ipython",
    "version": 3
   },
   "file_extension": ".py",
   "mimetype": "text/x-python",
   "name": "python",
   "nbconvert_exporter": "python",
   "pygments_lexer": "ipython3",
   "version": "3.7.12"
  }
 },
 "nbformat": 4,
 "nbformat_minor": 1
}
